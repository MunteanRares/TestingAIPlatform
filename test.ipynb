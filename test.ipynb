{
 "cells": [
  {
   "cell_type": "markdown",
   "metadata": {},
   "source": [
    "# Downloading the Data Set"
   ]
  },
  {
   "cell_type": "code",
   "execution_count": 22,
   "metadata": {},
   "outputs": [
    {
     "name": "stdout",
     "output_type": "stream",
     "text": [
      "Path to dataset files: C:\\Users\\rares\\.cache\\kagglehub\\datasets\\mrwellsdavid\\unsw-nb15\\versions\\1\n"
     ]
    }
   ],
   "source": [
    "import kagglehub\n",
    "\n",
    "path = kagglehub.dataset_download(\"mrwellsdavid/unsw-nb15\")\n",
    "\n",
    "print(\"Path to dataset files:\", path)\n"
   ]
  },
  {
   "cell_type": "markdown",
   "metadata": {},
   "source": [
    "Imports"
   ]
  },
  {
   "cell_type": "code",
   "execution_count": 23,
   "metadata": {},
   "outputs": [],
   "source": [
    "import pandas as pd\n",
    "from sklearn.model_selection import train_test_split\n",
    "from sklearn.ensemble import RandomForestClassifier\n",
    "from sklearn.preprocessing import LabelEncoder\n",
    "from sklearn.metrics import accuracy_score\n",
    "from sklearn.linear_model import LinearRegression\n",
    "\n",
    "import joblib"
   ]
  },
  {
   "cell_type": "code",
   "execution_count": 24,
   "metadata": {},
   "outputs": [
    {
     "name": "stdout",
     "output_type": "stream",
     "text": [
      "<class 'pandas.core.frame.DataFrame'>\n",
      "Index: 82332 entries, 1 to 82332\n",
      "Data columns (total 44 columns):\n",
      " #   Column             Non-Null Count  Dtype  \n",
      "---  ------             --------------  -----  \n",
      " 0   dur                82332 non-null  float64\n",
      " 1   proto              82332 non-null  object \n",
      " 2   service            82332 non-null  object \n",
      " 3   state              82332 non-null  object \n",
      " 4   spkts              82332 non-null  int64  \n",
      " 5   dpkts              82332 non-null  int64  \n",
      " 6   sbytes             82332 non-null  int64  \n",
      " 7   dbytes             82332 non-null  int64  \n",
      " 8   rate               82332 non-null  float64\n",
      " 9   sttl               82332 non-null  int64  \n",
      " 10  dttl               82332 non-null  int64  \n",
      " 11  sload              82332 non-null  float64\n",
      " 12  dload              82332 non-null  float64\n",
      " 13  sloss              82332 non-null  int64  \n",
      " 14  dloss              82332 non-null  int64  \n",
      " 15  sinpkt             82332 non-null  float64\n",
      " 16  dinpkt             82332 non-null  float64\n",
      " 17  sjit               82332 non-null  float64\n",
      " 18  djit               82332 non-null  float64\n",
      " 19  swin               82332 non-null  int64  \n",
      " 20  stcpb              82332 non-null  int64  \n",
      " 21  dtcpb              82332 non-null  int64  \n",
      " 22  dwin               82332 non-null  int64  \n",
      " 23  tcprtt             82332 non-null  float64\n",
      " 24  synack             82332 non-null  float64\n",
      " 25  ackdat             82332 non-null  float64\n",
      " 26  smean              82332 non-null  int64  \n",
      " 27  dmean              82332 non-null  int64  \n",
      " 28  trans_depth        82332 non-null  int64  \n",
      " 29  response_body_len  82332 non-null  int64  \n",
      " 30  ct_srv_src         82332 non-null  int64  \n",
      " 31  ct_state_ttl       82332 non-null  int64  \n",
      " 32  ct_dst_ltm         82332 non-null  int64  \n",
      " 33  ct_src_dport_ltm   82332 non-null  int64  \n",
      " 34  ct_dst_sport_ltm   82332 non-null  int64  \n",
      " 35  ct_dst_src_ltm     82332 non-null  int64  \n",
      " 36  is_ftp_login       82332 non-null  int64  \n",
      " 37  ct_ftp_cmd         82332 non-null  int64  \n",
      " 38  ct_flw_http_mthd   82332 non-null  int64  \n",
      " 39  ct_src_ltm         82332 non-null  int64  \n",
      " 40  ct_srv_dst         82332 non-null  int64  \n",
      " 41  is_sm_ips_ports    82332 non-null  int64  \n",
      " 42  attack_cat         82332 non-null  object \n",
      " 43  label              82332 non-null  int64  \n",
      "dtypes: float64(11), int64(29), object(4)\n",
      "memory usage: 28.3+ MB\n"
     ]
    }
   ],
   "source": [
    "data = pd.read_csv('UNSW_NB15_training-set.csv', index_col=0)\n",
    "data.shape\n",
    "data.info()"
   ]
  },
  {
   "cell_type": "code",
   "execution_count": 25,
   "metadata": {},
   "outputs": [
    {
     "data": {
      "text/plain": [
       "np.True_"
      ]
     },
     "execution_count": 25,
     "metadata": {},
     "output_type": "execute_result"
    }
   ],
   "source": [
    "data.duplicated().values.any()\n",
    "# data.count()"
   ]
  },
  {
   "cell_type": "code",
   "execution_count": 26,
   "metadata": {},
   "outputs": [],
   "source": [
    "data = data.drop_duplicates()\n",
    "# data.count()"
   ]
  },
  {
   "cell_type": "code",
   "execution_count": 27,
   "metadata": {},
   "outputs": [
    {
     "data": {
      "text/plain": [
       "np.False_"
      ]
     },
     "execution_count": 27,
     "metadata": {},
     "output_type": "execute_result"
    }
   ],
   "source": [
    "data.duplicated().values.any()"
   ]
  },
  {
   "cell_type": "code",
   "execution_count": 28,
   "metadata": {},
   "outputs": [
    {
     "data": {
      "text/plain": [
       "np.False_"
      ]
     },
     "execution_count": 28,
     "metadata": {},
     "output_type": "execute_result"
    }
   ],
   "source": [
    "data.isna().values.any()"
   ]
  },
  {
   "cell_type": "markdown",
   "metadata": {},
   "source": [
    "# CONVERTING STRING TO NUMERIC VALUES USING LABEL ENCODER"
   ]
  },
  {
   "cell_type": "code",
   "execution_count": 29,
   "metadata": {},
   "outputs": [],
   "source": [
    "label_encoder = LabelEncoder()\n",
    "data[\"proto\"] = label_encoder.fit_transform(data[\"proto\"])\n",
    "data[\"service\"] = label_encoder.fit_transform(data[\"service\"])\n",
    "data[\"state\"] = label_encoder.fit_transform(data[\"state\"])\n",
    "data[\"attack_cat\"] = label_encoder.fit_transform(data[\"attack_cat\"])\n"
   ]
  },
  {
   "cell_type": "markdown",
   "metadata": {},
   "source": [
    "# Training the label model (to check if it's an attack or not)"
   ]
  },
  {
   "cell_type": "code",
   "execution_count": 30,
   "metadata": {},
   "outputs": [
    {
     "name": "stdout",
     "output_type": "stream",
     "text": [
      "96.53836987607245%\n"
     ]
    }
   ],
   "source": [
    "target_label = data[\"label\"]\n",
    "features = data.drop(\"label\", axis=1).drop(\"attack_cat\", axis=1)\n",
    "X_train, X_test, y_train, y_test = train_test_split(features, target_label, test_size=0.3)\n",
    "\n",
    "model_label = RandomForestClassifier()\n",
    "model_label.fit(X_train, y_train)\n",
    "\n",
    "# Saving the Model\n",
    "joblib.dump(model_label, 'model_label.pkl')\n",
    "\n",
    "predict_label = model_label.predict(X_test)\n",
    "\n",
    "score = accuracy_score(y_test, predict_label)\n",
    "print(f\"{score * 100}%\")\n"
   ]
  },
  {
   "cell_type": "markdown",
   "metadata": {},
   "source": [
    "Training the attack category Model (To check what kind of attack it is)"
   ]
  },
  {
   "cell_type": "code",
   "execution_count": 31,
   "metadata": {},
   "outputs": [
    {
     "name": "stdout",
     "output_type": "stream",
     "text": [
      "['Normal' 'Fuzzers' 'Exploits' ... 'Normal' 'Generic' 'Normal']\n",
      "88.59628217349858%\n"
     ]
    }
   ],
   "source": [
    "target_attack_cat = data[\"attack_cat\"]\n",
    "features = data.drop(\"label\", axis=1).drop(\"attack_cat\", axis=1)\n",
    "X_train_attack_cat, X_test_attack_cat, y_train_attack_cat, y_test_attack_cat = train_test_split(features, target_attack_cat, test_size=0.3)\n",
    "\n",
    "model_attack_cat = RandomForestClassifier()\n",
    "model_attack_cat.fit(X_train_attack_cat, y_train_attack_cat)\n",
    "\n",
    "# Saving The Model\n",
    "joblib.dump(model_attack_cat, 'model_attack_cat.pkl')\n",
    "\n",
    "predict_attack_cat = model_attack_cat.predict(X_test_attack_cat)\n",
    "\n",
    "score = accuracy_score(y_test_attack_cat, predict_attack_cat)\n",
    "print(label_encoder.inverse_transform(predict_attack_cat))\n",
    "\n",
    "print(f\"{score * 100}%\")\n"
   ]
  },
  {
   "cell_type": "code",
   "execution_count": 32,
   "metadata": {},
   "outputs": [
    {
     "name": "stdout",
     "output_type": "stream",
     "text": [
      "0.19105628461112917\n"
     ]
    }
   ],
   "source": [
    "# testData = pd.read_csv('UNSW_NB15_testing-set.csv', index_col=0)\n",
    "\n",
    "# testData[\"proto\"] = label_encoder.fit_transform(testData[\"proto\"])\n",
    "# testData[\"service\"] = label_encoder.fit_transform(testData[\"service\"])\n",
    "# testData[\"state\"] = label_encoder.fit_transform(testData[\"state\"])\n",
    "# testData[\"attack_cat\"] = label_encoder.fit_transform(testData[\"attack_cat\"])\n",
    "\n",
    "# loaded_model = joblib.load(\"model_attack_cat.pkl\")\n",
    "\n",
    "# features_test = testData.drop(\"label\", axis=1).drop(\"attack_cat\", axis=1)\n",
    "# expected_output = testData[\"label\"]\n",
    "\n",
    "# predictTest = loaded_model.predict(features_test)\n",
    "# score = accuracy_score(expected_output, predictTest)\n",
    "# print(score * 100)\n"
   ]
  }
 ],
 "metadata": {
  "kernelspec": {
   "display_name": "Python 3",
   "language": "python",
   "name": "python3"
  },
  "language_info": {
   "codemirror_mode": {
    "name": "ipython",
    "version": 3
   },
   "file_extension": ".py",
   "mimetype": "text/x-python",
   "name": "python",
   "nbconvert_exporter": "python",
   "pygments_lexer": "ipython3",
   "version": "3.12.6"
  }
 },
 "nbformat": 4,
 "nbformat_minor": 2
}
