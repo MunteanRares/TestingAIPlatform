{
 "cells": [
  {
   "cell_type": "code",
   "execution_count": 231,
   "metadata": {},
   "outputs": [
    {
     "name": "stdout",
     "output_type": "stream",
     "text": [
      "Path to dataset files: C:\\Users\\rares\\.cache\\kagglehub\\datasets\\mrwellsdavid\\unsw-nb15\\versions\\1\n"
     ]
    }
   ],
   "source": [
    "import kagglehub\n",
    "\n",
    "# Download latest version\n",
    "path = kagglehub.dataset_download(\"mrwellsdavid/unsw-nb15\")\n",
    "\n",
    "print(\"Path to dataset files:\", path)\n"
   ]
  },
  {
   "cell_type": "code",
   "execution_count": 232,
   "metadata": {},
   "outputs": [],
   "source": [
    "import pandas as pd\n",
    "from sklearn.model_selection import train_test_split\n",
    "from sklearn.ensemble import RandomForestClassifier\n",
    "from sklearn.preprocessing import LabelEncoder\n",
    "from sklearn.metrics import accuracy_score\n",
    "from sklearn.linear_model import LinearRegression\n",
    "\n",
    "import joblib"
   ]
  },
  {
   "cell_type": "code",
   "execution_count": 233,
   "metadata": {},
   "outputs": [
    {
     "name": "stdout",
     "output_type": "stream",
     "text": [
      "<class 'pandas.core.frame.DataFrame'>\n",
      "Index: 82332 entries, 1 to 82332\n",
      "Data columns (total 44 columns):\n",
      " #   Column             Non-Null Count  Dtype  \n",
      "---  ------             --------------  -----  \n",
      " 0   dur                82332 non-null  float64\n",
      " 1   proto              82332 non-null  object \n",
      " 2   service            82332 non-null  object \n",
      " 3   state              82332 non-null  object \n",
      " 4   spkts              82332 non-null  int64  \n",
      " 5   dpkts              82332 non-null  int64  \n",
      " 6   sbytes             82332 non-null  int64  \n",
      " 7   dbytes             82332 non-null  int64  \n",
      " 8   rate               82332 non-null  float64\n",
      " 9   sttl               82332 non-null  int64  \n",
      " 10  dttl               82332 non-null  int64  \n",
      " 11  sload              82332 non-null  float64\n",
      " 12  dload              82332 non-null  float64\n",
      " 13  sloss              82332 non-null  int64  \n",
      " 14  dloss              82332 non-null  int64  \n",
      " 15  sinpkt             82332 non-null  float64\n",
      " 16  dinpkt             82332 non-null  float64\n",
      " 17  sjit               82332 non-null  float64\n",
      " 18  djit               82332 non-null  float64\n",
      " 19  swin               82332 non-null  int64  \n",
      " 20  stcpb              82332 non-null  int64  \n",
      " 21  dtcpb              82332 non-null  int64  \n",
      " 22  dwin               82332 non-null  int64  \n",
      " 23  tcprtt             82332 non-null  float64\n",
      " 24  synack             82332 non-null  float64\n",
      " 25  ackdat             82332 non-null  float64\n",
      " 26  smean              82332 non-null  int64  \n",
      " 27  dmean              82332 non-null  int64  \n",
      " 28  trans_depth        82332 non-null  int64  \n",
      " 29  response_body_len  82332 non-null  int64  \n",
      " 30  ct_srv_src         82332 non-null  int64  \n",
      " 31  ct_state_ttl       82332 non-null  int64  \n",
      " 32  ct_dst_ltm         82332 non-null  int64  \n",
      " 33  ct_src_dport_ltm   82332 non-null  int64  \n",
      " 34  ct_dst_sport_ltm   82332 non-null  int64  \n",
      " 35  ct_dst_src_ltm     82332 non-null  int64  \n",
      " 36  is_ftp_login       82332 non-null  int64  \n",
      " 37  ct_ftp_cmd         82332 non-null  int64  \n",
      " 38  ct_flw_http_mthd   82332 non-null  int64  \n",
      " 39  ct_src_ltm         82332 non-null  int64  \n",
      " 40  ct_srv_dst         82332 non-null  int64  \n",
      " 41  is_sm_ips_ports    82332 non-null  int64  \n",
      " 42  attack_cat         82332 non-null  object \n",
      " 43  label              82332 non-null  int64  \n",
      "dtypes: float64(11), int64(29), object(4)\n",
      "memory usage: 28.3+ MB\n"
     ]
    }
   ],
   "source": [
    "data = pd.read_csv('UNSW_NB15_training-set.csv', index_col=0)\n",
    "data.shape\n",
    "# data.describe()\n",
    "data.info()"
   ]
  },
  {
   "cell_type": "code",
   "execution_count": 234,
   "metadata": {},
   "outputs": [
    {
     "data": {
      "text/plain": [
       "dur                  82332\n",
       "proto                82332\n",
       "service              82332\n",
       "state                82332\n",
       "spkts                82332\n",
       "dpkts                82332\n",
       "sbytes               82332\n",
       "dbytes               82332\n",
       "rate                 82332\n",
       "sttl                 82332\n",
       "dttl                 82332\n",
       "sload                82332\n",
       "dload                82332\n",
       "sloss                82332\n",
       "dloss                82332\n",
       "sinpkt               82332\n",
       "dinpkt               82332\n",
       "sjit                 82332\n",
       "djit                 82332\n",
       "swin                 82332\n",
       "stcpb                82332\n",
       "dtcpb                82332\n",
       "dwin                 82332\n",
       "tcprtt               82332\n",
       "synack               82332\n",
       "ackdat               82332\n",
       "smean                82332\n",
       "dmean                82332\n",
       "trans_depth          82332\n",
       "response_body_len    82332\n",
       "ct_srv_src           82332\n",
       "ct_state_ttl         82332\n",
       "ct_dst_ltm           82332\n",
       "ct_src_dport_ltm     82332\n",
       "ct_dst_sport_ltm     82332\n",
       "ct_dst_src_ltm       82332\n",
       "is_ftp_login         82332\n",
       "ct_ftp_cmd           82332\n",
       "ct_flw_http_mthd     82332\n",
       "ct_src_ltm           82332\n",
       "ct_srv_dst           82332\n",
       "is_sm_ips_ports      82332\n",
       "attack_cat           82332\n",
       "label                82332\n",
       "dtype: int64"
      ]
     },
     "execution_count": 234,
     "metadata": {},
     "output_type": "execute_result"
    }
   ],
   "source": [
    "data.duplicated().values.any()\n",
    "data.count()"
   ]
  },
  {
   "cell_type": "code",
   "execution_count": 235,
   "metadata": {},
   "outputs": [
    {
     "data": {
      "text/plain": [
       "dur                  55945\n",
       "proto                55945\n",
       "service              55945\n",
       "state                55945\n",
       "spkts                55945\n",
       "dpkts                55945\n",
       "sbytes               55945\n",
       "dbytes               55945\n",
       "rate                 55945\n",
       "sttl                 55945\n",
       "dttl                 55945\n",
       "sload                55945\n",
       "dload                55945\n",
       "sloss                55945\n",
       "dloss                55945\n",
       "sinpkt               55945\n",
       "dinpkt               55945\n",
       "sjit                 55945\n",
       "djit                 55945\n",
       "swin                 55945\n",
       "stcpb                55945\n",
       "dtcpb                55945\n",
       "dwin                 55945\n",
       "tcprtt               55945\n",
       "synack               55945\n",
       "ackdat               55945\n",
       "smean                55945\n",
       "dmean                55945\n",
       "trans_depth          55945\n",
       "response_body_len    55945\n",
       "ct_srv_src           55945\n",
       "ct_state_ttl         55945\n",
       "ct_dst_ltm           55945\n",
       "ct_src_dport_ltm     55945\n",
       "ct_dst_sport_ltm     55945\n",
       "ct_dst_src_ltm       55945\n",
       "is_ftp_login         55945\n",
       "ct_ftp_cmd           55945\n",
       "ct_flw_http_mthd     55945\n",
       "ct_src_ltm           55945\n",
       "ct_srv_dst           55945\n",
       "is_sm_ips_ports      55945\n",
       "attack_cat           55945\n",
       "label                55945\n",
       "dtype: int64"
      ]
     },
     "execution_count": 235,
     "metadata": {},
     "output_type": "execute_result"
    }
   ],
   "source": [
    "data = data.drop_duplicates()\n",
    "data.count()"
   ]
  },
  {
   "cell_type": "code",
   "execution_count": 236,
   "metadata": {},
   "outputs": [
    {
     "data": {
      "text/plain": [
       "np.False_"
      ]
     },
     "execution_count": 236,
     "metadata": {},
     "output_type": "execute_result"
    }
   ],
   "source": [
    "data.duplicated().values.any()"
   ]
  },
  {
   "cell_type": "code",
   "execution_count": 237,
   "metadata": {},
   "outputs": [
    {
     "data": {
      "text/plain": [
       "np.False_"
      ]
     },
     "execution_count": 237,
     "metadata": {},
     "output_type": "execute_result"
    }
   ],
   "source": [
    "data.isna().values.any()"
   ]
  },
  {
   "cell_type": "markdown",
   "metadata": {},
   "source": [
    "# CONVERTING STRING TO NUMERIC VALUES USING LABEL ENCODER"
   ]
  },
  {
   "cell_type": "code",
   "execution_count": 238,
   "metadata": {},
   "outputs": [],
   "source": [
    "label_encoder = LabelEncoder()\n",
    "data[\"proto\"] = label_encoder.fit_transform(data[\"proto\"])\n",
    "data[\"service\"] = label_encoder.fit_transform(data[\"service\"])\n",
    "data[\"state\"] = label_encoder.fit_transform(data[\"state\"])\n",
    "data[\"attack_cat\"] = label_encoder.fit_transform(data[\"attack_cat\"])\n"
   ]
  },
  {
   "cell_type": "markdown",
   "metadata": {},
   "source": [
    "LABEL MODEL (IF ITS AN ATTACK OR NOT)"
   ]
  },
  {
   "cell_type": "code",
   "execution_count": 239,
   "metadata": {},
   "outputs": [
    {
     "name": "stdout",
     "output_type": "stream",
     "text": [
      "96.46687321258341%\n",
      "Domnitorul Vlad este multumit\n"
     ]
    }
   ],
   "source": [
    "target_label = data[\"label\"]\n",
    "\n",
    "features = data.drop(\"label\", axis=1).drop(\"attack_cat\", axis=1)\n",
    "\n",
    "X_train, X_test, y_train, y_test = train_test_split(features, target_label, test_size=0.3)\n",
    "\n",
    "model_label = RandomForestClassifier()\n",
    "model_label.fit(X_train, y_train)\n",
    "\n",
    "# salvam modelu\n",
    "joblib.dump(model_label, 'model_label.pkl')\n",
    "\n",
    "predict_label = model_label.predict(X_test)\n",
    "\n",
    "score = accuracy_score(y_test, predict_label)\n",
    "print(f\"{score * 100}%\")\n",
    "\n",
    "if score * 100 > 95:\n",
    "    print(\"Domnitorul Vlad este multumit\")\n",
    "else:\n",
    "   print(\"Alo ALo\")\n"
   ]
  },
  {
   "cell_type": "markdown",
   "metadata": {},
   "source": [
    "ATTACK CATEGORY MODEL (WHAT KIND OF ATTACK IT IS)"
   ]
  },
  {
   "cell_type": "code",
   "execution_count": null,
   "metadata": {},
   "outputs": [],
   "source": [
    "target_attack_cat = data[\"attack_cat\"]\n",
    "\n",
    "X_train_attack_cat, X_testattack_cat, y_trainattack_cat, y_testattack_cat = train_test_split(features, target_attack_cat, test_size=0.3)\n",
    "\n",
    "model_attack_cat = RandomForestClassifier()\n",
    "model_attack_cat.fit(X_train_attack_cat, y_trainattack_cat)\n",
    "\n",
    "# salvam modelu\n",
    "joblib.dump(model_attack_cat, 'model_label.pkl')\n",
    "\n",
    "predict_label = model_attack_cat.predict(X_testattack_cat)\n",
    "\n",
    "score = accuracy_score(y_testattack_cat, predict_label)\n",
    "print(f\"{score * 100}%\")\n"
   ]
  },
  {
   "cell_type": "markdown",
   "metadata": {},
   "source": [
    "Alt predict"
   ]
  },
  {
   "cell_type": "code",
   "execution_count": 240,
   "metadata": {},
   "outputs": [
    {
     "name": "stdout",
     "output_type": "stream",
     "text": [
      "0.9024700440855248\n"
     ]
    }
   ],
   "source": [
    "testData = pd.read_csv('UNSW_NB15_testing-set.csv', index_col=0)\n",
    "\n",
    "testData[\"proto\"] = label_encoder.fit_transform(testData[\"proto\"])\n",
    "testData[\"service\"] = label_encoder.fit_transform(testData[\"service\"])\n",
    "testData[\"state\"] = label_encoder.fit_transform(testData[\"state\"])\n",
    "testData[\"attack_cat\"] = label_encoder.fit_transform(testData[\"attack_cat\"])\n",
    "\n",
    "loaded_model = joblib.load(\"model.pkl\")\n",
    "\n",
    "features_test = testData.drop(\"label\", axis=1).drop(\"attack_cat\", axis=1)\n",
    "expected_output = testData[\"label\"]\n",
    "\n",
    "predictTest = loaded_model.predict(features_test)\n",
    "score = accuracy_score(expected_output, predictTest)\n",
    "print(score)\n"
   ]
  }
 ],
 "metadata": {
  "kernelspec": {
   "display_name": "Python 3",
   "language": "python",
   "name": "python3"
  },
  "language_info": {
   "codemirror_mode": {
    "name": "ipython",
    "version": 3
   },
   "file_extension": ".py",
   "mimetype": "text/x-python",
   "name": "python",
   "nbconvert_exporter": "python",
   "pygments_lexer": "ipython3",
   "version": "3.12.6"
  }
 },
 "nbformat": 4,
 "nbformat_minor": 2
}
